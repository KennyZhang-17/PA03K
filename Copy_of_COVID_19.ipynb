{
  "nbformat": 4,
  "nbformat_minor": 0,
  "metadata": {
    "colab": {
      "name": "Copy of COVID-19.ipynb",
      "provenance": [],
      "authorship_tag": "ABX9TyNWnqdtZAGTcifZ7MJNHgQQ",
      "include_colab_link": true
    },
    "kernelspec": {
      "name": "python3",
      "display_name": "Python 3"
    }
  },
  "cells": [
    {
      "cell_type": "markdown",
      "metadata": {
        "id": "view-in-github",
        "colab_type": "text"
      },
      "source": [
        "<a href=\"https://colab.research.google.com/github/KennyZhang-17/PA03K1/blob/master/Copy_of_COVID_19.ipynb\" target=\"_parent\"><img src=\"https://colab.research.google.com/assets/colab-badge.svg\" alt=\"Open In Colab\"/></a>"
      ]
    },
    {
      "cell_type": "code",
      "metadata": {
        "id": "3PSEjKK8h21K",
        "colab_type": "code",
        "colab": {}
      },
      "source": [
        "import numpy as np\n",
        "import math\n",
        "import pandas as pd"
      ],
      "execution_count": 0,
      "outputs": []
    },
    {
      "cell_type": "code",
      "metadata": {
        "id": "TyFmtvn_iZx5",
        "colab_type": "code",
        "outputId": "09401852-d1c2-419c-85ca-1b46ff02fc2c",
        "colab": {
          "base_uri": "https://localhost:8080/",
          "height": 119
        }
      },
      "source": [
        "url = 'https://raw.githubusercontent.com/nytimes/covid-19-data/master/us-states.csv'\n",
        "df1 = pd.read_csv(url)\n",
        "world_url = \"https://raw.githubusercontent.com/datasets/covid-19/master/data/countries-aggregated.csv\"\n",
        "df1_world = pd.read_csv(world_url)\n",
        "df1_ca=df1_world[df1_world[\"Country\"]==\"Canada\"]\n",
        "\n",
        "df1_ca['Date'] = pd.to_datetime(df1_ca['Date'])\n",
        "start_date = '03-12-2020'\n",
        "end_date = '04-06-2020'\n",
        "mask = (df1_ca['Date'] > start_date) & (df1_ca['Date'] <= end_date)\n",
        "df_tailored_ca=df1_ca[mask]"
      ],
      "execution_count": 0,
      "outputs": [
        {
          "output_type": "stream",
          "text": [
            "/usr/local/lib/python3.6/dist-packages/ipykernel_launcher.py:7: SettingWithCopyWarning: \n",
            "A value is trying to be set on a copy of a slice from a DataFrame.\n",
            "Try using .loc[row_indexer,col_indexer] = value instead\n",
            "\n",
            "See the caveats in the documentation: https://pandas.pydata.org/pandas-docs/stable/user_guide/indexing.html#returning-a-view-versus-a-copy\n",
            "  import sys\n"
          ],
          "name": "stderr"
        }
      ]
    },
    {
      "cell_type": "code",
      "metadata": {
        "id": "WR6lGHcqi90E",
        "colab_type": "code",
        "outputId": "a9774fcd-2e0a-49a1-9b79-dbd136ace81d",
        "colab": {
          "base_uri": "https://localhost:8080/",
          "height": 204
        }
      },
      "source": [
        "#df1.head()\n",
        "df1_ca.head()"
      ],
      "execution_count": 0,
      "outputs": [
        {
          "output_type": "execute_result",
          "data": {
            "text/html": [
              "<div>\n",
              "<style scoped>\n",
              "    .dataframe tbody tr th:only-of-type {\n",
              "        vertical-align: middle;\n",
              "    }\n",
              "\n",
              "    .dataframe tbody tr th {\n",
              "        vertical-align: top;\n",
              "    }\n",
              "\n",
              "    .dataframe thead th {\n",
              "        text-align: right;\n",
              "    }\n",
              "</style>\n",
              "<table border=\"1\" class=\"dataframe\">\n",
              "  <thead>\n",
              "    <tr style=\"text-align: right;\">\n",
              "      <th></th>\n",
              "      <th>Date</th>\n",
              "      <th>Country</th>\n",
              "      <th>Confirmed</th>\n",
              "      <th>Recovered</th>\n",
              "      <th>Deaths</th>\n",
              "    </tr>\n",
              "  </thead>\n",
              "  <tbody>\n",
              "    <tr>\n",
              "      <th>32</th>\n",
              "      <td>2020-01-22</td>\n",
              "      <td>Canada</td>\n",
              "      <td>0</td>\n",
              "      <td>0</td>\n",
              "      <td>0</td>\n",
              "    </tr>\n",
              "    <tr>\n",
              "      <th>216</th>\n",
              "      <td>2020-01-23</td>\n",
              "      <td>Canada</td>\n",
              "      <td>0</td>\n",
              "      <td>0</td>\n",
              "      <td>0</td>\n",
              "    </tr>\n",
              "    <tr>\n",
              "      <th>400</th>\n",
              "      <td>2020-01-24</td>\n",
              "      <td>Canada</td>\n",
              "      <td>0</td>\n",
              "      <td>0</td>\n",
              "      <td>0</td>\n",
              "    </tr>\n",
              "    <tr>\n",
              "      <th>584</th>\n",
              "      <td>2020-01-25</td>\n",
              "      <td>Canada</td>\n",
              "      <td>0</td>\n",
              "      <td>0</td>\n",
              "      <td>0</td>\n",
              "    </tr>\n",
              "    <tr>\n",
              "      <th>768</th>\n",
              "      <td>2020-01-26</td>\n",
              "      <td>Canada</td>\n",
              "      <td>1</td>\n",
              "      <td>0</td>\n",
              "      <td>0</td>\n",
              "    </tr>\n",
              "  </tbody>\n",
              "</table>\n",
              "</div>"
            ],
            "text/plain": [
              "           Date Country  Confirmed  Recovered  Deaths\n",
              "32   2020-01-22  Canada          0          0       0\n",
              "216  2020-01-23  Canada          0          0       0\n",
              "400  2020-01-24  Canada          0          0       0\n",
              "584  2020-01-25  Canada          0          0       0\n",
              "768  2020-01-26  Canada          1          0       0"
            ]
          },
          "metadata": {
            "tags": []
          },
          "execution_count": 10
        }
      ]
    },
    {
      "cell_type": "code",
      "metadata": {
        "id": "VyJ_1Zq4jkDc",
        "colab_type": "code",
        "outputId": "5b6a89b1-56d7-44c3-e0ec-b4b0b01ec2ef",
        "colab": {
          "base_uri": "https://localhost:8080/",
          "height": 122
        }
      },
      "source": [
        "df1.count()"
      ],
      "execution_count": 0,
      "outputs": [
        {
          "output_type": "execute_result",
          "data": {
            "text/plain": [
              "date      1829\n",
              "state     1829\n",
              "fips      1829\n",
              "cases     1829\n",
              "deaths    1829\n",
              "dtype: int64"
            ]
          },
          "metadata": {
            "tags": []
          },
          "execution_count": 9
        }
      ]
    },
    {
      "cell_type": "code",
      "metadata": {
        "id": "Ogdkn0W_kl68",
        "colab_type": "code",
        "colab": {}
      },
      "source": [
        "df1['date'] = pd.to_datetime(df1['date'])\n",
        "start_date = '03-12-2020'\n",
        "end_date = '04-06-2020'\n",
        "mask = (df1['date'] > start_date) & (df1['date'] <= end_date)\n",
        "df_tailored=df1[mask]"
      ],
      "execution_count": 0,
      "outputs": []
    },
    {
      "cell_type": "code",
      "metadata": {
        "id": "mrsu2CN3lKMd",
        "colab_type": "code",
        "outputId": "9f5f0118-30a1-437a-e110-637a8c653ef5",
        "colab": {
          "base_uri": "https://localhost:8080/",
          "height": 638
        }
      },
      "source": [
        "#df_tailored.head()\n",
        "df_tailored_ca[1:20]\n",
        "#df=df_tailored[df_tailored[\"state\"]==\"California\"]\n",
        "#df.head()"
      ],
      "execution_count": 0,
      "outputs": [
        {
          "output_type": "execute_result",
          "data": {
            "text/html": [
              "<div>\n",
              "<style scoped>\n",
              "    .dataframe tbody tr th:only-of-type {\n",
              "        vertical-align: middle;\n",
              "    }\n",
              "\n",
              "    .dataframe tbody tr th {\n",
              "        vertical-align: top;\n",
              "    }\n",
              "\n",
              "    .dataframe thead th {\n",
              "        text-align: right;\n",
              "    }\n",
              "</style>\n",
              "<table border=\"1\" class=\"dataframe\">\n",
              "  <thead>\n",
              "    <tr style=\"text-align: right;\">\n",
              "      <th></th>\n",
              "      <th>Date</th>\n",
              "      <th>Country</th>\n",
              "      <th>Confirmed</th>\n",
              "      <th>Recovered</th>\n",
              "      <th>Deaths</th>\n",
              "    </tr>\n",
              "  </thead>\n",
              "  <tbody>\n",
              "    <tr>\n",
              "      <th>9600</th>\n",
              "      <td>2020-03-14</td>\n",
              "      <td>Canada</td>\n",
              "      <td>198</td>\n",
              "      <td>8</td>\n",
              "      <td>1</td>\n",
              "    </tr>\n",
              "    <tr>\n",
              "      <th>9784</th>\n",
              "      <td>2020-03-15</td>\n",
              "      <td>Canada</td>\n",
              "      <td>252</td>\n",
              "      <td>8</td>\n",
              "      <td>1</td>\n",
              "    </tr>\n",
              "    <tr>\n",
              "      <th>9968</th>\n",
              "      <td>2020-03-16</td>\n",
              "      <td>Canada</td>\n",
              "      <td>415</td>\n",
              "      <td>9</td>\n",
              "      <td>4</td>\n",
              "    </tr>\n",
              "    <tr>\n",
              "      <th>10152</th>\n",
              "      <td>2020-03-17</td>\n",
              "      <td>Canada</td>\n",
              "      <td>478</td>\n",
              "      <td>9</td>\n",
              "      <td>5</td>\n",
              "    </tr>\n",
              "    <tr>\n",
              "      <th>10336</th>\n",
              "      <td>2020-03-18</td>\n",
              "      <td>Canada</td>\n",
              "      <td>657</td>\n",
              "      <td>9</td>\n",
              "      <td>8</td>\n",
              "    </tr>\n",
              "    <tr>\n",
              "      <th>10520</th>\n",
              "      <td>2020-03-19</td>\n",
              "      <td>Canada</td>\n",
              "      <td>800</td>\n",
              "      <td>9</td>\n",
              "      <td>9</td>\n",
              "    </tr>\n",
              "    <tr>\n",
              "      <th>10704</th>\n",
              "      <td>2020-03-20</td>\n",
              "      <td>Canada</td>\n",
              "      <td>943</td>\n",
              "      <td>9</td>\n",
              "      <td>12</td>\n",
              "    </tr>\n",
              "    <tr>\n",
              "      <th>10888</th>\n",
              "      <td>2020-03-21</td>\n",
              "      <td>Canada</td>\n",
              "      <td>1277</td>\n",
              "      <td>10</td>\n",
              "      <td>19</td>\n",
              "    </tr>\n",
              "    <tr>\n",
              "      <th>11072</th>\n",
              "      <td>2020-03-22</td>\n",
              "      <td>Canada</td>\n",
              "      <td>1469</td>\n",
              "      <td>10</td>\n",
              "      <td>21</td>\n",
              "    </tr>\n",
              "    <tr>\n",
              "      <th>11256</th>\n",
              "      <td>2020-03-23</td>\n",
              "      <td>Canada</td>\n",
              "      <td>2088</td>\n",
              "      <td>10</td>\n",
              "      <td>25</td>\n",
              "    </tr>\n",
              "    <tr>\n",
              "      <th>11440</th>\n",
              "      <td>2020-03-24</td>\n",
              "      <td>Canada</td>\n",
              "      <td>2790</td>\n",
              "      <td>110</td>\n",
              "      <td>26</td>\n",
              "    </tr>\n",
              "    <tr>\n",
              "      <th>11624</th>\n",
              "      <td>2020-03-25</td>\n",
              "      <td>Canada</td>\n",
              "      <td>3251</td>\n",
              "      <td>183</td>\n",
              "      <td>30</td>\n",
              "    </tr>\n",
              "    <tr>\n",
              "      <th>11808</th>\n",
              "      <td>2020-03-26</td>\n",
              "      <td>Canada</td>\n",
              "      <td>4042</td>\n",
              "      <td>184</td>\n",
              "      <td>38</td>\n",
              "    </tr>\n",
              "    <tr>\n",
              "      <th>11992</th>\n",
              "      <td>2020-03-27</td>\n",
              "      <td>Canada</td>\n",
              "      <td>4682</td>\n",
              "      <td>256</td>\n",
              "      <td>54</td>\n",
              "    </tr>\n",
              "    <tr>\n",
              "      <th>12176</th>\n",
              "      <td>2020-03-28</td>\n",
              "      <td>Canada</td>\n",
              "      <td>5576</td>\n",
              "      <td>466</td>\n",
              "      <td>61</td>\n",
              "    </tr>\n",
              "    <tr>\n",
              "      <th>12360</th>\n",
              "      <td>2020-03-29</td>\n",
              "      <td>Canada</td>\n",
              "      <td>6280</td>\n",
              "      <td>466</td>\n",
              "      <td>64</td>\n",
              "    </tr>\n",
              "    <tr>\n",
              "      <th>12544</th>\n",
              "      <td>2020-03-30</td>\n",
              "      <td>Canada</td>\n",
              "      <td>7398</td>\n",
              "      <td>466</td>\n",
              "      <td>80</td>\n",
              "    </tr>\n",
              "    <tr>\n",
              "      <th>12728</th>\n",
              "      <td>2020-03-31</td>\n",
              "      <td>Canada</td>\n",
              "      <td>8527</td>\n",
              "      <td>1592</td>\n",
              "      <td>101</td>\n",
              "    </tr>\n",
              "    <tr>\n",
              "      <th>12912</th>\n",
              "      <td>2020-04-01</td>\n",
              "      <td>Canada</td>\n",
              "      <td>9560</td>\n",
              "      <td>1324</td>\n",
              "      <td>109</td>\n",
              "    </tr>\n",
              "  </tbody>\n",
              "</table>\n",
              "</div>"
            ],
            "text/plain": [
              "            Date Country  Confirmed  Recovered  Deaths\n",
              "9600  2020-03-14  Canada        198          8       1\n",
              "9784  2020-03-15  Canada        252          8       1\n",
              "9968  2020-03-16  Canada        415          9       4\n",
              "10152 2020-03-17  Canada        478          9       5\n",
              "10336 2020-03-18  Canada        657          9       8\n",
              "10520 2020-03-19  Canada        800          9       9\n",
              "10704 2020-03-20  Canada        943          9      12\n",
              "10888 2020-03-21  Canada       1277         10      19\n",
              "11072 2020-03-22  Canada       1469         10      21\n",
              "11256 2020-03-23  Canada       2088         10      25\n",
              "11440 2020-03-24  Canada       2790        110      26\n",
              "11624 2020-03-25  Canada       3251        183      30\n",
              "11808 2020-03-26  Canada       4042        184      38\n",
              "11992 2020-03-27  Canada       4682        256      54\n",
              "12176 2020-03-28  Canada       5576        466      61\n",
              "12360 2020-03-29  Canada       6280        466      64\n",
              "12544 2020-03-30  Canada       7398        466      80\n",
              "12728 2020-03-31  Canada       8527       1592     101\n",
              "12912 2020-04-01  Canada       9560       1324     109"
            ]
          },
          "metadata": {
            "tags": []
          },
          "execution_count": 36
        }
      ]
    },
    {
      "cell_type": "code",
      "metadata": {
        "id": "EGoozvn5MNPL",
        "colab_type": "code",
        "colab": {}
      },
      "source": [
        "df_california=df[[\"date\",\"state\",\"cases\"]]\n",
        "df_canada= df_tailored_ca.rename(columns={'Date': 'date','Confirmed':'cases','Country':'state'})\n",
        "df_canada=df_canada[[\"date\",\"state\",\"cases\"]]"
      ],
      "execution_count": 0,
      "outputs": []
    },
    {
      "cell_type": "code",
      "metadata": {
        "id": "DLsyLIMHQtLk",
        "colab_type": "code",
        "outputId": "1508996e-2f49-4443-a779-5cf5f94e5541",
        "colab": {
          "base_uri": "https://localhost:8080/",
          "height": 295
        }
      },
      "source": [
        "df_canada_california=df_canada.append(df_california)\n",
        "df_canada_california.head()\n",
        "\n",
        "result = pd.merge(df_california,\n",
        "                 df_canada,\n",
        "                 on='date')\n",
        "result.head()\n",
        "result[\"ratio\"]=result[\"cases_x\"]/result[\"cases_y\"]\n",
        "result.head()\n",
        "#result[\"date\"].count()\n",
        "import matplotlib.pyplot as plt\n",
        "import matplotlib.dates as mdates\n",
        "ax = plt.gca()\n",
        "formatter = mdates.DateFormatter(\"%m-%d\")\n",
        "ax.xaxis.set_major_formatter(formatter)\n",
        "locator = mdates.DayLocator(interval=2)\n",
        "ax.xaxis.set_major_locator(locator)\n",
        "\n",
        "plt.plot(result[\"date\"][10:24],result[\"ratio\"][10:24],color=\"r\")\n",
        "plt.gca().set_ylim(.5, 1.5)\n",
        "plt.hlines(1,result[\"date\"][10],result[\"date\"][24], color=\"b\")\n",
        "plt.xlabel(\"date\")\n",
        "plt.ylabel(\"ratio\")\n",
        "plt.title(\"Ratio of Confirmed Case of California over Canada\")\n",
        "plt.show()"
      ],
      "execution_count": 0,
      "outputs": [
        {
          "output_type": "display_data",
          "data": {
            "image/png": "[encoded data removed]",
            "text/plain": [
              "<Figure size 432x288 with 1 Axes>"
            ]
          },
          "metadata": {
            "tags": []
          }
        }
      ]
    },
    {
      "cell_type": "code",
      "metadata": {
        "id": "LQbiP1wcmIUD",
        "colab_type": "code",
        "outputId": "75f41adf-5bb4-4cea-bf24-a6577fce2644",
        "colab": {
          "base_uri": "https://localhost:8080/",
          "height": 490
        }
      },
      "source": [
        "df=df_tailored[df_tailored[\"state\"]==\"California\"]\n",
        "df2=df_tailored[df_tailored[\"state\"]==\"New York\"]\n",
        "df3=df_tailored[df_tailored[\"state\"]==\"Massachusetts\"]\n",
        "df4=df_tailored[df_tailored[\"state\"]==\"Michigan\"]\n",
        "\n",
        "df.head()\n",
        "from plotnine import *\n",
        "(ggplot(df_canada_california)        \n",
        " + aes(x='date', y='cases',colour='state')+geom_line()\n",
        " + theme_bw()+labs(x=\"Date\", y=\"Confirmed Cases\")+ggtitle(\"Trajectory of COVID-19 in Canada and California\")\n",
        ")"
      ],
      "execution_count": 0,
      "outputs": [
        {
          "output_type": "display_data",
          "data": {
            "image/png": "[encoded data removed]",
            "text/plain": [
              "<Figure size 640x480 with 1 Axes>"
            ]
          },
          "metadata": {
            "tags": []
          }
        },
        {
          "output_type": "execute_result",
          "data": {
            "text/plain": [
              "<ggplot: (-9223363264788107516)>"
            ]
          },
          "metadata": {
            "tags": []
          },
          "execution_count": 44
        }
      ]
    },
    {
      "cell_type": "code",
      "metadata": {
        "id": "WQDX9lg0hrk9",
        "colab_type": "code",
        "colab": {}
      },
      "source": [
        ""
      ],
      "execution_count": 0,
      "outputs": []
    },
    {
      "cell_type": "code",
      "metadata": {
        "id": "9sQ13NC_sDs-",
        "colab_type": "code",
        "outputId": "d60ac424-fc0d-4225-fbc8-201534a5699b",
        "colab": {
          "base_uri": "https://localhost:8080/",
          "height": 862
        }
      },
      "source": [
        "df[\"lag\"]=df[\"cases\"].shift(-1)-df[\"cases\"]\n",
        "df[\"lag\"]=df[\"lag\"].shift(1)\n",
        "df=df[1:df.count()[1]-1]\n",
        "\n",
        "df2[\"lag\"]=df2[\"cases\"].shift(-1)-df2[\"cases\"]\n",
        "df2[\"lag\"]=df2[\"lag\"].shift(1)\n",
        "df2=df2[1:df2.count()[1]-1]\n",
        "\n",
        "df3[\"lag\"]=df3[\"cases\"].shift(-1)-df3[\"cases\"]\n",
        "df3[\"lag\"]=df3[\"lag\"].shift(1)\n",
        "df3=df3[1:df3.count()[1]-1]\n",
        "\n",
        "df4[\"lag\"]=df4[\"cases\"].shift(-1)-df4[\"cases\"]\n",
        "df4[\"lag\"]=df4[\"lag\"].shift(1)\n",
        "df4=df4[1:df4.count()[1]-1]"
      ],
      "execution_count": 0,
      "outputs": [
        {
          "output_type": "stream",
          "text": [
            "/usr/local/lib/python3.6/dist-packages/ipykernel_launcher.py:1: SettingWithCopyWarning: \n",
            "A value is trying to be set on a copy of a slice from a DataFrame.\n",
            "Try using .loc[row_indexer,col_indexer] = value instead\n",
            "\n",
            "See the caveats in the documentation: https://pandas.pydata.org/pandas-docs/stable/user_guide/indexing.html#returning-a-view-versus-a-copy\n",
            "  \"\"\"Entry point for launching an IPython kernel.\n",
            "/usr/local/lib/python3.6/dist-packages/ipykernel_launcher.py:2: SettingWithCopyWarning: \n",
            "A value is trying to be set on a copy of a slice from a DataFrame.\n",
            "Try using .loc[row_indexer,col_indexer] = value instead\n",
            "\n",
            "See the caveats in the documentation: https://pandas.pydata.org/pandas-docs/stable/user_guide/indexing.html#returning-a-view-versus-a-copy\n",
            "  \n",
            "/usr/local/lib/python3.6/dist-packages/ipykernel_launcher.py:5: SettingWithCopyWarning: \n",
            "A value is trying to be set on a copy of a slice from a DataFrame.\n",
            "Try using .loc[row_indexer,col_indexer] = value instead\n",
            "\n",
            "See the caveats in the documentation: https://pandas.pydata.org/pandas-docs/stable/user_guide/indexing.html#returning-a-view-versus-a-copy\n",
            "  \"\"\"\n",
            "/usr/local/lib/python3.6/dist-packages/ipykernel_launcher.py:6: SettingWithCopyWarning: \n",
            "A value is trying to be set on a copy of a slice from a DataFrame.\n",
            "Try using .loc[row_indexer,col_indexer] = value instead\n",
            "\n",
            "See the caveats in the documentation: https://pandas.pydata.org/pandas-docs/stable/user_guide/indexing.html#returning-a-view-versus-a-copy\n",
            "  \n",
            "/usr/local/lib/python3.6/dist-packages/ipykernel_launcher.py:9: SettingWithCopyWarning: \n",
            "A value is trying to be set on a copy of a slice from a DataFrame.\n",
            "Try using .loc[row_indexer,col_indexer] = value instead\n",
            "\n",
            "See the caveats in the documentation: https://pandas.pydata.org/pandas-docs/stable/user_guide/indexing.html#returning-a-view-versus-a-copy\n",
            "  if __name__ == '__main__':\n",
            "/usr/local/lib/python3.6/dist-packages/ipykernel_launcher.py:10: SettingWithCopyWarning: \n",
            "A value is trying to be set on a copy of a slice from a DataFrame.\n",
            "Try using .loc[row_indexer,col_indexer] = value instead\n",
            "\n",
            "See the caveats in the documentation: https://pandas.pydata.org/pandas-docs/stable/user_guide/indexing.html#returning-a-view-versus-a-copy\n",
            "  # Remove the CWD from sys.path while we load stuff.\n",
            "/usr/local/lib/python3.6/dist-packages/ipykernel_launcher.py:13: SettingWithCopyWarning: \n",
            "A value is trying to be set on a copy of a slice from a DataFrame.\n",
            "Try using .loc[row_indexer,col_indexer] = value instead\n",
            "\n",
            "See the caveats in the documentation: https://pandas.pydata.org/pandas-docs/stable/user_guide/indexing.html#returning-a-view-versus-a-copy\n",
            "  del sys.path[0]\n",
            "/usr/local/lib/python3.6/dist-packages/ipykernel_launcher.py:14: SettingWithCopyWarning: \n",
            "A value is trying to be set on a copy of a slice from a DataFrame.\n",
            "Try using .loc[row_indexer,col_indexer] = value instead\n",
            "\n",
            "See the caveats in the documentation: https://pandas.pydata.org/pandas-docs/stable/user_guide/indexing.html#returning-a-view-versus-a-copy\n",
            "  \n"
          ],
          "name": "stderr"
        }
      ]
    },
    {
      "cell_type": "code",
      "metadata": {
        "id": "V7UweWk-tQCq",
        "colab_type": "code",
        "outputId": "b704464a-ebe3-44a5-b7a3-421ac0156914",
        "colab": {
          "base_uri": "https://localhost:8080/",
          "height": 195
        }
      },
      "source": [
        "df4.head()"
      ],
      "execution_count": 0,
      "outputs": [
        {
          "output_type": "execute_result",
          "data": {
            "text/html": [
              "<div>\n",
              "<style scoped>\n",
              "    .dataframe tbody tr th:only-of-type {\n",
              "        vertical-align: middle;\n",
              "    }\n",
              "\n",
              "    .dataframe tbody tr th {\n",
              "        vertical-align: top;\n",
              "    }\n",
              "\n",
              "    .dataframe thead th {\n",
              "        text-align: right;\n",
              "    }\n",
              "</style>\n",
              "<table border=\"1\" class=\"dataframe\">\n",
              "  <thead>\n",
              "    <tr style=\"text-align: right;\">\n",
              "      <th></th>\n",
              "      <th>date</th>\n",
              "      <th>state</th>\n",
              "      <th>fips</th>\n",
              "      <th>cases</th>\n",
              "      <th>deaths</th>\n",
              "      <th>lag</th>\n",
              "    </tr>\n",
              "  </thead>\n",
              "  <tbody>\n",
              "    <tr>\n",
              "      <th>512</th>\n",
              "      <td>2020-03-11</td>\n",
              "      <td>Michigan</td>\n",
              "      <td>26</td>\n",
              "      <td>2</td>\n",
              "      <td>0</td>\n",
              "      <td>0.0</td>\n",
              "    </tr>\n",
              "    <tr>\n",
              "      <th>559</th>\n",
              "      <td>2020-03-12</td>\n",
              "      <td>Michigan</td>\n",
              "      <td>26</td>\n",
              "      <td>12</td>\n",
              "      <td>0</td>\n",
              "      <td>10.0</td>\n",
              "    </tr>\n",
              "    <tr>\n",
              "      <th>608</th>\n",
              "      <td>2020-03-13</td>\n",
              "      <td>Michigan</td>\n",
              "      <td>26</td>\n",
              "      <td>25</td>\n",
              "      <td>0</td>\n",
              "      <td>13.0</td>\n",
              "    </tr>\n",
              "    <tr>\n",
              "      <th>659</th>\n",
              "      <td>2020-03-14</td>\n",
              "      <td>Michigan</td>\n",
              "      <td>26</td>\n",
              "      <td>33</td>\n",
              "      <td>0</td>\n",
              "      <td>8.0</td>\n",
              "    </tr>\n",
              "    <tr>\n",
              "      <th>712</th>\n",
              "      <td>2020-03-15</td>\n",
              "      <td>Michigan</td>\n",
              "      <td>26</td>\n",
              "      <td>53</td>\n",
              "      <td>0</td>\n",
              "      <td>20.0</td>\n",
              "    </tr>\n",
              "  </tbody>\n",
              "</table>\n",
              "</div>"
            ],
            "text/plain": [
              "          date     state  fips  cases  deaths   lag\n",
              "512 2020-03-11  Michigan    26      2       0   0.0\n",
              "559 2020-03-12  Michigan    26     12       0  10.0\n",
              "608 2020-03-13  Michigan    26     25       0  13.0\n",
              "659 2020-03-14  Michigan    26     33       0   8.0\n",
              "712 2020-03-15  Michigan    26     53       0  20.0"
            ]
          },
          "metadata": {
            "tags": []
          },
          "execution_count": 87
        }
      ]
    },
    {
      "cell_type": "code",
      "metadata": {
        "id": "SSjHiAHotTgc",
        "colab_type": "code",
        "outputId": "93437d8e-39af-455b-d030-478a5a5ea9d4",
        "colab": {
          "base_uri": "https://localhost:8080/",
          "height": 140
        }
      },
      "source": [
        "\n",
        "df.count()"
      ],
      "execution_count": 0,
      "outputs": [
        {
          "output_type": "execute_result",
          "data": {
            "text/plain": [
              "date      33\n",
              "state     33\n",
              "fips      33\n",
              "cases     33\n",
              "deaths    33\n",
              "lag       33\n",
              "dtype: int64"
            ]
          },
          "metadata": {
            "tags": []
          },
          "execution_count": 49
        }
      ]
    },
    {
      "cell_type": "code",
      "metadata": {
        "id": "7CwGmf1EtuuR",
        "colab_type": "code",
        "colab": {}
      },
      "source": [
        "from plotnine import *"
      ],
      "execution_count": 0,
      "outputs": []
    },
    {
      "cell_type": "code",
      "metadata": {
        "id": "pX9WcEBlbT8U",
        "colab_type": "code",
        "outputId": "4be4445e-1690-4bdd-cf59-86af82638ed9",
        "colab": {
          "base_uri": "https://localhost:8080/",
          "height": 402
        }
      },
      "source": [
        " df = df.append(df2)\n",
        " df = df.append(df3)\n",
        " df = df.append(df4)\n",
        " df\n"
      ],
      "execution_count": 0,
      "outputs": [
        {
          "output_type": "execute_result",
          "data": {
            "text/html": [
              "<div>\n",
              "<style scoped>\n",
              "    .dataframe tbody tr th:only-of-type {\n",
              "        vertical-align: middle;\n",
              "    }\n",
              "\n",
              "    .dataframe tbody tr th {\n",
              "        vertical-align: top;\n",
              "    }\n",
              "\n",
              "    .dataframe thead th {\n",
              "        text-align: right;\n",
              "    }\n",
              "</style>\n",
              "<table border=\"1\" class=\"dataframe\">\n",
              "  <thead>\n",
              "    <tr style=\"text-align: right;\">\n",
              "      <th></th>\n",
              "      <th>date</th>\n",
              "      <th>state</th>\n",
              "      <th>fips</th>\n",
              "      <th>cases</th>\n",
              "      <th>deaths</th>\n",
              "      <th>lag</th>\n",
              "    </tr>\n",
              "  </thead>\n",
              "  <tbody>\n",
              "    <tr>\n",
              "      <th>641</th>\n",
              "      <td>2020-03-14</td>\n",
              "      <td>California</td>\n",
              "      <td>6</td>\n",
              "      <td>381</td>\n",
              "      <td>5</td>\n",
              "      <td>61.0</td>\n",
              "    </tr>\n",
              "    <tr>\n",
              "      <th>693</th>\n",
              "      <td>2020-03-15</td>\n",
              "      <td>California</td>\n",
              "      <td>6</td>\n",
              "      <td>478</td>\n",
              "      <td>6</td>\n",
              "      <td>97.0</td>\n",
              "    </tr>\n",
              "    <tr>\n",
              "      <th>746</th>\n",
              "      <td>2020-03-16</td>\n",
              "      <td>California</td>\n",
              "      <td>6</td>\n",
              "      <td>588</td>\n",
              "      <td>11</td>\n",
              "      <td>110.0</td>\n",
              "    </tr>\n",
              "    <tr>\n",
              "      <th>799</th>\n",
              "      <td>2020-03-17</td>\n",
              "      <td>California</td>\n",
              "      <td>6</td>\n",
              "      <td>732</td>\n",
              "      <td>14</td>\n",
              "      <td>144.0</td>\n",
              "    </tr>\n",
              "    <tr>\n",
              "      <th>853</th>\n",
              "      <td>2020-03-18</td>\n",
              "      <td>California</td>\n",
              "      <td>6</td>\n",
              "      <td>893</td>\n",
              "      <td>17</td>\n",
              "      <td>161.0</td>\n",
              "    </tr>\n",
              "    <tr>\n",
              "      <th>...</th>\n",
              "      <td>...</td>\n",
              "      <td>...</td>\n",
              "      <td>...</td>\n",
              "      <td>...</td>\n",
              "      <td>...</td>\n",
              "      <td>...</td>\n",
              "    </tr>\n",
              "    <tr>\n",
              "      <th>1522</th>\n",
              "      <td>2020-03-30</td>\n",
              "      <td>Michigan</td>\n",
              "      <td>26</td>\n",
              "      <td>6508</td>\n",
              "      <td>197</td>\n",
              "      <td>1022.0</td>\n",
              "    </tr>\n",
              "    <tr>\n",
              "      <th>1577</th>\n",
              "      <td>2020-03-31</td>\n",
              "      <td>Michigan</td>\n",
              "      <td>26</td>\n",
              "      <td>7630</td>\n",
              "      <td>264</td>\n",
              "      <td>1122.0</td>\n",
              "    </tr>\n",
              "    <tr>\n",
              "      <th>1632</th>\n",
              "      <td>2020-04-01</td>\n",
              "      <td>Michigan</td>\n",
              "      <td>26</td>\n",
              "      <td>9293</td>\n",
              "      <td>336</td>\n",
              "      <td>1663.0</td>\n",
              "    </tr>\n",
              "    <tr>\n",
              "      <th>1687</th>\n",
              "      <td>2020-04-02</td>\n",
              "      <td>Michigan</td>\n",
              "      <td>26</td>\n",
              "      <td>10791</td>\n",
              "      <td>417</td>\n",
              "      <td>1498.0</td>\n",
              "    </tr>\n",
              "    <tr>\n",
              "      <th>1742</th>\n",
              "      <td>2020-04-03</td>\n",
              "      <td>Michigan</td>\n",
              "      <td>26</td>\n",
              "      <td>12670</td>\n",
              "      <td>478</td>\n",
              "      <td>1879.0</td>\n",
              "    </tr>\n",
              "  </tbody>\n",
              "</table>\n",
              "<p>84 rows × 6 columns</p>\n",
              "</div>"
            ],
            "text/plain": [
              "           date       state  fips  cases  deaths     lag\n",
              "641  2020-03-14  California     6    381       5    61.0\n",
              "693  2020-03-15  California     6    478       6    97.0\n",
              "746  2020-03-16  California     6    588      11   110.0\n",
              "799  2020-03-17  California     6    732      14   144.0\n",
              "853  2020-03-18  California     6    893      17   161.0\n",
              "...         ...         ...   ...    ...     ...     ...\n",
              "1522 2020-03-30    Michigan    26   6508     197  1022.0\n",
              "1577 2020-03-31    Michigan    26   7630     264  1122.0\n",
              "1632 2020-04-01    Michigan    26   9293     336  1663.0\n",
              "1687 2020-04-02    Michigan    26  10791     417  1498.0\n",
              "1742 2020-04-03    Michigan    26  12670     478  1879.0\n",
              "\n",
              "[84 rows x 6 columns]"
            ]
          },
          "metadata": {
            "tags": []
          },
          "execution_count": 92
        }
      ]
    },
    {
      "cell_type": "code",
      "metadata": {
        "id": "W6lHUMglwQDC",
        "colab_type": "code",
        "outputId": "f9eaa3cd-ae12-4e74-a27b-a90e249c078c",
        "colab": {
          "base_uri": "https://localhost:8080/",
          "height": 490
        }
      },
      "source": [
        "(ggplot(df)        \n",
        " + aes(x='cases', y='lag',colour='state')+geom_line()\n",
        " + theme_bw()+labs(x=\"Total Confirmed Cases\", y=\"New Confirmed Cases\")+ggtitle(\"Trajectory of COVID-19\")+\n",
        " scale_x_continuous(trans='log10') +\n",
        "  scale_y_continuous(trans='log10')\n",
        ")"
      ],
      "execution_count": 0,
      "outputs": [
        {
          "output_type": "display_data",
          "data": {
            "image/png": "[encoded data removed]",
            "text/plain": [
              "<Figure size 640x480 with 1 Axes>"
            ]
          },
          "metadata": {
            "tags": []
          }
        },
        {
          "output_type": "execute_result",
          "data": {
            "text/plain": [
              "<ggplot: (8794905321494)>"
            ]
          },
          "metadata": {
            "tags": []
          },
          "execution_count": 93
        }
      ]
    },
    {
      "cell_type": "code",
      "metadata": {
        "id": "uklNhQxqw4l6",
        "colab_type": "code",
        "colab": {}
      },
      "source": [
        "``"
      ],
      "execution_count": 0,
      "outputs": []
    }
  ]
}